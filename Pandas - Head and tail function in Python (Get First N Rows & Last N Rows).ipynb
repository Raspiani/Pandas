{
 "cells": [
  {
   "cell_type": "markdown",
   "metadata": {},
   "source": [
    "## Pandas - Head and tail function in Python (Get First N Rows & Last N Rows)\n",
    "\n",
    "Dalam tutorial ini kita akan mempelajari bagaimana mendapatkan atau mengambil beberapa baris data pertama dan data terakhir dari suatu dataframe menggunakan fungsi head() dan tail().\n",
    "\n",
    "Fungsi head() mengembalikan n baris pertama dan \n",
    "Fungsi tail() mengembalikan n baris terakhir.\n",
    "\n",
    "Dalam tutorial fungsi head() dan tail() ini menggunakan dataset HistoricalQuotes"
   ]
  },
  {
   "cell_type": "code",
   "execution_count": 2,
   "metadata": {},
   "outputs": [],
   "source": [
    "#memasukan modul yang digunakan\n",
    "import pandas as pd"
   ]
  },
  {
   "cell_type": "code",
   "execution_count": 3,
   "metadata": {},
   "outputs": [],
   "source": [
    "#memasukan data \n",
    "data = pd.read_csv(\"C:/WinPython_64bit/notebooks/8. BELAJAR DATA SCIENCE/HistoricalQuotes.csv\")"
   ]
  },
  {
   "cell_type": "code",
   "execution_count": 4,
   "metadata": {},
   "outputs": [
    {
     "data": {
      "text/html": [
       "<div>\n",
       "<style scoped>\n",
       "    .dataframe tbody tr th:only-of-type {\n",
       "        vertical-align: middle;\n",
       "    }\n",
       "\n",
       "    .dataframe tbody tr th {\n",
       "        vertical-align: top;\n",
       "    }\n",
       "\n",
       "    .dataframe thead th {\n",
       "        text-align: right;\n",
       "    }\n",
       "</style>\n",
       "<table border=\"1\" class=\"dataframe\">\n",
       "  <thead>\n",
       "    <tr style=\"text-align: right;\">\n",
       "      <th></th>\n",
       "      <th>date</th>\n",
       "      <th>close</th>\n",
       "      <th>volume</th>\n",
       "      <th>open</th>\n",
       "      <th>high</th>\n",
       "      <th>low</th>\n",
       "    </tr>\n",
       "  </thead>\n",
       "  <tbody>\n",
       "    <tr>\n",
       "      <th>0</th>\n",
       "      <td>16:00</td>\n",
       "      <td>182.78</td>\n",
       "      <td>29,747,936</td>\n",
       "      <td>184.66</td>\n",
       "      <td>185.710</td>\n",
       "      <td>182.550</td>\n",
       "    </tr>\n",
       "    <tr>\n",
       "      <th>1</th>\n",
       "      <td>2019/05/22</td>\n",
       "      <td>182.78</td>\n",
       "      <td>29748560.0000</td>\n",
       "      <td>184.66</td>\n",
       "      <td>185.710</td>\n",
       "      <td>182.550</td>\n",
       "    </tr>\n",
       "    <tr>\n",
       "      <th>2</th>\n",
       "      <td>2019/05/21</td>\n",
       "      <td>186.60</td>\n",
       "      <td>28364850.0000</td>\n",
       "      <td>185.22</td>\n",
       "      <td>188.000</td>\n",
       "      <td>184.700</td>\n",
       "    </tr>\n",
       "    <tr>\n",
       "      <th>3</th>\n",
       "      <td>2019/05/20</td>\n",
       "      <td>183.09</td>\n",
       "      <td>38612290.0000</td>\n",
       "      <td>189.00</td>\n",
       "      <td>184.349</td>\n",
       "      <td>180.284</td>\n",
       "    </tr>\n",
       "    <tr>\n",
       "      <th>4</th>\n",
       "      <td>2019/05/17</td>\n",
       "      <td>189.00</td>\n",
       "      <td>32879090.0000</td>\n",
       "      <td>190.08</td>\n",
       "      <td>190.900</td>\n",
       "      <td>186.760</td>\n",
       "    </tr>\n",
       "  </tbody>\n",
       "</table>\n",
       "</div>"
      ],
      "text/plain": [
       "         date   close         volume    open     high      low\n",
       "0       16:00  182.78     29,747,936  184.66  185.710  182.550\n",
       "1  2019/05/22  182.78  29748560.0000  184.66  185.710  182.550\n",
       "2  2019/05/21  186.60  28364850.0000  185.22  188.000  184.700\n",
       "3  2019/05/20  183.09  38612290.0000  189.00  184.349  180.284\n",
       "4  2019/05/17  189.00  32879090.0000  190.08  190.900  186.760"
      ]
     },
     "execution_count": 4,
     "metadata": {},
     "output_type": "execute_result"
    }
   ],
   "source": [
    "#menggunakan fungsi head() untuk melihat lima data pertama \n",
    "data.head()"
   ]
  },
  {
   "cell_type": "code",
   "execution_count": 5,
   "metadata": {},
   "outputs": [
    {
     "data": {
      "text/html": [
       "<div>\n",
       "<style scoped>\n",
       "    .dataframe tbody tr th:only-of-type {\n",
       "        vertical-align: middle;\n",
       "    }\n",
       "\n",
       "    .dataframe tbody tr th {\n",
       "        vertical-align: top;\n",
       "    }\n",
       "\n",
       "    .dataframe thead th {\n",
       "        text-align: right;\n",
       "    }\n",
       "</style>\n",
       "<table border=\"1\" class=\"dataframe\">\n",
       "  <thead>\n",
       "    <tr style=\"text-align: right;\">\n",
       "      <th></th>\n",
       "      <th>date</th>\n",
       "      <th>close</th>\n",
       "      <th>volume</th>\n",
       "      <th>open</th>\n",
       "      <th>high</th>\n",
       "      <th>low</th>\n",
       "    </tr>\n",
       "  </thead>\n",
       "  <tbody>\n",
       "    <tr>\n",
       "      <th>59</th>\n",
       "      <td>2019/02/28</td>\n",
       "      <td>173.15</td>\n",
       "      <td>27953810.0000</td>\n",
       "      <td>174.32</td>\n",
       "      <td>174.91</td>\n",
       "      <td>172.9200</td>\n",
       "    </tr>\n",
       "    <tr>\n",
       "      <th>60</th>\n",
       "      <td>2019/02/27</td>\n",
       "      <td>174.87</td>\n",
       "      <td>27817640.0000</td>\n",
       "      <td>173.21</td>\n",
       "      <td>175.00</td>\n",
       "      <td>172.7300</td>\n",
       "    </tr>\n",
       "    <tr>\n",
       "      <th>61</th>\n",
       "      <td>2019/02/26</td>\n",
       "      <td>174.33</td>\n",
       "      <td>16991610.0000</td>\n",
       "      <td>173.71</td>\n",
       "      <td>175.30</td>\n",
       "      <td>173.1732</td>\n",
       "    </tr>\n",
       "    <tr>\n",
       "      <th>62</th>\n",
       "      <td>2019/02/25</td>\n",
       "      <td>174.23</td>\n",
       "      <td>21846400.0000</td>\n",
       "      <td>174.16</td>\n",
       "      <td>175.87</td>\n",
       "      <td>173.9500</td>\n",
       "    </tr>\n",
       "    <tr>\n",
       "      <th>63</th>\n",
       "      <td>2019/02/22</td>\n",
       "      <td>172.97</td>\n",
       "      <td>18890250.0000</td>\n",
       "      <td>171.58</td>\n",
       "      <td>173.00</td>\n",
       "      <td>171.3800</td>\n",
       "    </tr>\n",
       "  </tbody>\n",
       "</table>\n",
       "</div>"
      ],
      "text/plain": [
       "          date   close         volume    open    high       low\n",
       "59  2019/02/28  173.15  27953810.0000  174.32  174.91  172.9200\n",
       "60  2019/02/27  174.87  27817640.0000  173.21  175.00  172.7300\n",
       "61  2019/02/26  174.33  16991610.0000  173.71  175.30  173.1732\n",
       "62  2019/02/25  174.23  21846400.0000  174.16  175.87  173.9500\n",
       "63  2019/02/22  172.97  18890250.0000  171.58  173.00  171.3800"
      ]
     },
     "execution_count": 5,
     "metadata": {},
     "output_type": "execute_result"
    }
   ],
   "source": [
    "#menggunakan fungsi tail() untuk melihat lima data terakhir\n",
    "data.tail()"
   ]
  },
  {
   "cell_type": "markdown",
   "metadata": {},
   "source": [
    "                        ##Semoga Bermanfaat \n",
    "                        ##@Raspiani_"
   ]
  }
 ],
 "metadata": {
  "kernelspec": {
   "display_name": "Python 3",
   "language": "python",
   "name": "python3"
  },
  "language_info": {
   "codemirror_mode": {
    "name": "ipython",
    "version": 3
   },
   "file_extension": ".py",
   "mimetype": "text/x-python",
   "name": "python",
   "nbconvert_exporter": "python",
   "pygments_lexer": "ipython3",
   "version": "3.6.5"
  }
 },
 "nbformat": 4,
 "nbformat_minor": 2
}
