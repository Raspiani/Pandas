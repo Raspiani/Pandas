{
 "cells": [
  {
   "cell_type": "markdown",
   "metadata": {},
   "source": [
    "## Pandas - Create a Series in Python\n",
    "\n",
    "Series adalah array berlabel satu dimensi yang mampu menampung data jenis apa pun (integer, string, float, objek python, dll.). \n",
    "\n",
    "Dalam tutorial ini kita akan belajar berbagai cara untuk membuat series dalam python pandas (membuat series kosong, series dari array tanpa indeks, series dari array dengan indeks, series dari dictionary dan nilai skalar). \n",
    "\n",
    "Label sumbu disebut sebagai indeks."
   ]
  },
  {
   "cell_type": "code",
   "execution_count": 4,
   "metadata": {},
   "outputs": [],
   "source": [
    "#memasukkan modul yang digunakan\n",
    "import pandas as pd\n",
    "import numpy as np"
   ]
  },
  {
   "cell_type": "markdown",
   "metadata": {},
   "source": [
    "#### Create an Empty Series:"
   ]
  },
  {
   "cell_type": "code",
   "execution_count": 3,
   "metadata": {},
   "outputs": [
    {
     "name": "stdout",
     "output_type": "stream",
     "text": [
      "Series([], dtype: float64)\n"
     ]
    }
   ],
   "source": [
    "#contoh membuat sebuah series kosong\n",
    "\n",
    "series_kosong = pd.Series()\n",
    "print(series_kosong)"
   ]
  },
  {
   "cell_type": "markdown",
   "metadata": {},
   "source": [
    "#### Create a series from array without index:"
   ]
  },
  {
   "cell_type": "code",
   "execution_count": 5,
   "metadata": {},
   "outputs": [
    {
     "name": "stdout",
     "output_type": "stream",
     "text": [
      "0    a\n",
      "1    b\n",
      "2    c\n",
      "3    d\n",
      "4    e\n",
      "5    f\n",
      "dtype: object\n"
     ]
    }
   ],
   "source": [
    "#membuat series dari array tanpa indeks\n",
    "\n",
    "data = np.array(['a','b','c','d','e','f'])\n",
    "series = pd.Series(data)\n",
    "print(series)"
   ]
  },
  {
   "cell_type": "markdown",
   "metadata": {},
   "source": [
    "#### Create a series from array with index: "
   ]
  },
  {
   "cell_type": "code",
   "execution_count": 6,
   "metadata": {},
   "outputs": [
    {
     "name": "stdout",
     "output_type": "stream",
     "text": [
      "1000    a\n",
      "1001    b\n",
      "1002    c\n",
      "1003    d\n",
      "1004    e\n",
      "1005    f\n",
      "dtype: object\n"
     ]
    }
   ],
   "source": [
    "#membuat series dari array dengan indexs\n",
    "#menambahkan index = [1000,1001,1002,1003,1004,1005]\n",
    "\n",
    "data = np.array(['a','b','c','d','e','f'])\n",
    "series = pd.Series(data, index = [1000,1001,1002,1003,1004,1005])\n",
    "print(series)"
   ]
  },
  {
   "cell_type": "markdown",
   "metadata": {},
   "source": [
    "#### Create a series from Dictionary"
   ]
  },
  {
   "cell_type": "code",
   "execution_count": 7,
   "metadata": {},
   "outputs": [
    {
     "name": "stdout",
     "output_type": "stream",
     "text": [
      "b    1.0\n",
      "c    2.0\n",
      "d    NaN\n",
      "a    0.0\n",
      "dtype: float64\n"
     ]
    }
   ],
   "source": [
    "#membuat series dari dictionary\n",
    "\n",
    "data = {'a' : 0., \n",
    "        'b' : 1., \n",
    "        'c' : 2.}\n",
    "\n",
    "series = pd.Series(data, index = ['b', 'c', 'd', 'a'])\n",
    "print(series)"
   ]
  },
  {
   "cell_type": "markdown",
   "metadata": {},
   "source": [
    "#### Create a series from Scalar value"
   ]
  },
  {
   "cell_type": "code",
   "execution_count": 8,
   "metadata": {},
   "outputs": [
    {
     "name": "stdout",
     "output_type": "stream",
     "text": [
      "0    7\n",
      "1    7\n",
      "2    7\n",
      "3    7\n",
      "dtype: int64\n"
     ]
    }
   ],
   "source": [
    "#membuat series dari nilai skalar\n",
    "\n",
    "series = pd.Series(7, index = [0,1,2,3])\n",
    "print(series)"
   ]
  },
  {
   "cell_type": "markdown",
   "metadata": {},
   "source": [
    "                    ##Semoga Bermanfaat\n",
    "                    ##@Raspiani_"
   ]
  }
 ],
 "metadata": {
  "kernelspec": {
   "display_name": "Python 3",
   "language": "python",
   "name": "python3"
  },
  "language_info": {
   "codemirror_mode": {
    "name": "ipython",
    "version": 3
   },
   "file_extension": ".py",
   "mimetype": "text/x-python",
   "name": "python",
   "nbconvert_exporter": "python",
   "pygments_lexer": "ipython3",
   "version": "3.6.5"
  }
 },
 "nbformat": 4,
 "nbformat_minor": 2
}
