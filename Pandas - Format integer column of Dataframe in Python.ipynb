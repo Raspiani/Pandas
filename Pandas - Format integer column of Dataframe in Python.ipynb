{
 "cells": [
  {
   "cell_type": "markdown",
   "metadata": {},
   "source": [
    "## Pandas - Format integer column of Dataframe in Python\n",
    "\n",
    "Dalam tutorial ini kita akan mempelajari bagaimana format kolom integer atau numerik dari dataframe di python dengan menggunakan pandas berdasarkan contoh berikut. \n",
    "\n",
    "Yang akan kita pelajari adalah:\n",
    "1. Membulatkan kolom nilai dari dataframe dengan dua angka desimal (dua angka dibelakang koma)\n",
    "2. Memformat kolom nilai dari dataframe dengan koma\n",
    "3. Memformat kolom nilai dari dataframe dengan dolar\n",
    "4. Memformat kolom nilai dari dataframe dengan notasi ilmiah "
   ]
  },
  {
   "cell_type": "code",
   "execution_count": 1,
   "metadata": {},
   "outputs": [],
   "source": [
    "#memasukan modul yang digunakan\n",
    "import pandas as pd\n",
    "import numpy as np"
   ]
  },
  {
   "cell_type": "code",
   "execution_count": 2,
   "metadata": {},
   "outputs": [
    {
     "data": {
      "text/html": [
       "<div>\n",
       "<style scoped>\n",
       "    .dataframe tbody tr th:only-of-type {\n",
       "        vertical-align: middle;\n",
       "    }\n",
       "\n",
       "    .dataframe tbody tr th {\n",
       "        vertical-align: top;\n",
       "    }\n",
       "\n",
       "    .dataframe thead th {\n",
       "        text-align: right;\n",
       "    }\n",
       "</style>\n",
       "<table border=\"1\" class=\"dataframe\">\n",
       "  <thead>\n",
       "    <tr style=\"text-align: right;\">\n",
       "      <th></th>\n",
       "      <th>Quarters</th>\n",
       "      <th>Revenue</th>\n",
       "    </tr>\n",
       "  </thead>\n",
       "  <tbody>\n",
       "    <tr>\n",
       "      <th>0</th>\n",
       "      <td>Quarter1</td>\n",
       "      <td>2.340034e+07</td>\n",
       "    </tr>\n",
       "    <tr>\n",
       "      <th>1</th>\n",
       "      <td>Quarter2</td>\n",
       "      <td>5.436374e+07</td>\n",
       "    </tr>\n",
       "    <tr>\n",
       "      <th>2</th>\n",
       "      <td>Quarter3</td>\n",
       "      <td>5.678912e+07</td>\n",
       "    </tr>\n",
       "    <tr>\n",
       "      <th>3</th>\n",
       "      <td>Quarter4</td>\n",
       "      <td>4.132455e+06</td>\n",
       "    </tr>\n",
       "  </tbody>\n",
       "</table>\n",
       "</div>"
      ],
      "text/plain": [
       "   Quarters       Revenue\n",
       "0  Quarter1  2.340034e+07\n",
       "1  Quarter2  5.436374e+07\n",
       "2  Quarter3  5.678912e+07\n",
       "3  Quarter4  4.132455e+06"
      ]
     },
     "execution_count": 2,
     "metadata": {},
     "output_type": "execute_result"
    }
   ],
   "source": [
    "#membuat data dan menampilkannya\n",
    "df = {'Quarters' : ['Quarter1', 'Quarter2', 'Quarter3', 'Quarter4'],\n",
    "      'Revenue' : [23400344.567,54363744.678,56789117.456,4132454.987]}\n",
    "\n",
    "data = pd.DataFrame(df)\n",
    "data"
   ]
  },
  {
   "cell_type": "markdown",
   "metadata": {},
   "source": [
    "#### 1. Membulatkan kolom nilai dari dataframe dengan dua angka desimal (dua angka dibelakang koma)"
   ]
  },
  {
   "cell_type": "code",
   "execution_count": 3,
   "metadata": {},
   "outputs": [
    {
     "name": "stdout",
     "output_type": "stream",
     "text": [
      "   Quarters     Revenue\n",
      "0  Quarter1 23400344.57\n",
      "1  Quarter2 54363744.68\n",
      "2  Quarter3 56789117.46\n",
      "3  Quarter4  4132454.99\n"
     ]
    }
   ],
   "source": [
    "pd.options.display.float_format = '{:.2f}'.format\n",
    "print(data)"
   ]
  },
  {
   "cell_type": "markdown",
   "metadata": {},
   "source": [
    "#### 2. Memformat kolom nilai dari dataframe dengan koma"
   ]
  },
  {
   "cell_type": "code",
   "execution_count": 5,
   "metadata": {},
   "outputs": [
    {
     "name": "stdout",
     "output_type": "stream",
     "text": [
      "   Quarters       Revenue\n",
      "0  Quarter1 23,400,344.57\n",
      "1  Quarter2 54,363,744.68\n",
      "2  Quarter3 56,789,117.46\n",
      "3  Quarter4  4,132,454.99\n"
     ]
    }
   ],
   "source": [
    "pd.options.display.float_format = '{:,.2f}'.format\n",
    "print(data)"
   ]
  },
  {
   "cell_type": "markdown",
   "metadata": {},
   "source": [
    "#### 3. Memformat kolom nilai dari dataframe dengan dolar"
   ]
  },
  {
   "cell_type": "code",
   "execution_count": 6,
   "metadata": {},
   "outputs": [
    {
     "name": "stdout",
     "output_type": "stream",
     "text": [
      "   Quarters        Revenue\n",
      "0  Quarter1 $23,400,344.57\n",
      "1  Quarter2 $54,363,744.68\n",
      "2  Quarter3 $56,789,117.46\n",
      "3  Quarter4  $4,132,454.99\n"
     ]
    }
   ],
   "source": [
    "pd.options.display.float_format = '${:,.2f}'.format\n",
    "print(data)"
   ]
  },
  {
   "cell_type": "markdown",
   "metadata": {},
   "source": [
    "#### 4. Memformat kolom nilai dari dataframe dengan notasi ilmiah "
   ]
  },
  {
   "cell_type": "code",
   "execution_count": 7,
   "metadata": {},
   "outputs": [
    {
     "name": "stdout",
     "output_type": "stream",
     "text": [
      "   Quarters  Revenue\n",
      "0  Quarter1 2.34E+07\n",
      "1  Quarter2 5.44E+07\n",
      "2  Quarter3 5.68E+07\n",
      "3  Quarter4 4.13E+06\n"
     ]
    }
   ],
   "source": [
    "pd.options.display.float_format = '{:.2E}'.format\n",
    "print(data)"
   ]
  },
  {
   "cell_type": "markdown",
   "metadata": {},
   "source": [
    "                    ##Semoga Bermanfaat\n",
    "                    ##@Raspiani_"
   ]
  }
 ],
 "metadata": {
  "kernelspec": {
   "display_name": "Python 3",
   "language": "python",
   "name": "python3"
  },
  "language_info": {
   "codemirror_mode": {
    "name": "ipython",
    "version": 3
   },
   "file_extension": ".py",
   "mimetype": "text/x-python",
   "name": "python",
   "nbconvert_exporter": "python",
   "pygments_lexer": "ipython3",
   "version": "3.6.5"
  }
 },
 "nbformat": 4,
 "nbformat_minor": 2
}
