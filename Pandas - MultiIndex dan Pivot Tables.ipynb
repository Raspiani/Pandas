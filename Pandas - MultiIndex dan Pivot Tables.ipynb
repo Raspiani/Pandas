{
 "cells": [
  {
   "cell_type": "markdown",
   "metadata": {},
   "source": [
    "### Multiindex dan Pivot Tables \n",
    "\n",
    "    Berikut ini langkah-langkah melakukan multiindex dan pivot tabel di python. \n",
    "\n",
    "    Sumber : https://janakiev.com/blog/pandas-multiindex-pivot/"
   ]
  },
  {
   "cell_type": "code",
   "execution_count": 19,
   "metadata": {
    "scrolled": true
   },
   "outputs": [],
   "source": [
    "#memasukan modul yang digunakan \n",
    "import matplotlib.pyplot as plt\n",
    "plt.style.use('ggplot')\n",
    "%matplotlib inline\n",
    "\n",
    "import pandas as pd\n",
    "import wbdata"
   ]
  },
  {
   "cell_type": "code",
   "execution_count": 20,
   "metadata": {},
   "outputs": [],
   "source": [
    "#memasukan header dari data yaitu countries dan indicators\n",
    "countries = ['ES', 'FR', 'DE', 'GB', 'IT']\n",
    "\n",
    "indicators = {'SP.POP.TOTL':'Population', \n",
    "              'NY.GDP.PCAP.PP.CD':'GDP per capita',\n",
    "              'NY.GNP.PCAP.PP.CD':'GNI per capita'}"
   ]
  },
  {
   "cell_type": "code",
   "execution_count": 21,
   "metadata": {
    "scrolled": true
   },
   "outputs": [
    {
     "data": {
      "text/html": [
       "<div>\n",
       "<style scoped>\n",
       "    .dataframe tbody tr th:only-of-type {\n",
       "        vertical-align: middle;\n",
       "    }\n",
       "\n",
       "    .dataframe tbody tr th {\n",
       "        vertical-align: top;\n",
       "    }\n",
       "\n",
       "    .dataframe thead th {\n",
       "        text-align: right;\n",
       "    }\n",
       "</style>\n",
       "<table border=\"1\" class=\"dataframe\">\n",
       "  <thead>\n",
       "    <tr style=\"text-align: right;\">\n",
       "      <th></th>\n",
       "      <th></th>\n",
       "      <th>GDP per capita</th>\n",
       "      <th>GNI per capita</th>\n",
       "      <th>Population</th>\n",
       "    </tr>\n",
       "    <tr>\n",
       "      <th>country</th>\n",
       "      <th>date</th>\n",
       "      <th></th>\n",
       "      <th></th>\n",
       "      <th></th>\n",
       "    </tr>\n",
       "  </thead>\n",
       "  <tbody>\n",
       "    <tr>\n",
       "      <th rowspan=\"5\" valign=\"top\">Germany</th>\n",
       "      <th>2018</th>\n",
       "      <td>NaN</td>\n",
       "      <td>NaN</td>\n",
       "      <td>NaN</td>\n",
       "    </tr>\n",
       "    <tr>\n",
       "      <th>2017</th>\n",
       "      <td>52555.932637</td>\n",
       "      <td>53660.0</td>\n",
       "      <td>82685827.0</td>\n",
       "    </tr>\n",
       "    <tr>\n",
       "      <th>2016</th>\n",
       "      <td>49921.330618</td>\n",
       "      <td>50910.0</td>\n",
       "      <td>82348669.0</td>\n",
       "    </tr>\n",
       "    <tr>\n",
       "      <th>2015</th>\n",
       "      <td>47979.484203</td>\n",
       "      <td>49010.0</td>\n",
       "      <td>81686611.0</td>\n",
       "    </tr>\n",
       "    <tr>\n",
       "      <th>2014</th>\n",
       "      <td>47190.769353</td>\n",
       "      <td>48110.0</td>\n",
       "      <td>80982500.0</td>\n",
       "    </tr>\n",
       "  </tbody>\n",
       "</table>\n",
       "</div>"
      ],
      "text/plain": [
       "              GDP per capita  GNI per capita  Population\n",
       "country date                                            \n",
       "Germany 2018             NaN             NaN         NaN\n",
       "        2017    52555.932637         53660.0  82685827.0\n",
       "        2016    49921.330618         50910.0  82348669.0\n",
       "        2015    47979.484203         49010.0  81686611.0\n",
       "        2014    47190.769353         48110.0  80982500.0"
      ]
     },
     "execution_count": 21,
     "metadata": {},
     "output_type": "execute_result"
    }
   ],
   "source": [
    "#memasukan data\n",
    "df = wbdata.get_dataframe(indicators=indicators, country=countries)\n",
    "df.head()"
   ]
  },
  {
   "cell_type": "code",
   "execution_count": 22,
   "metadata": {},
   "outputs": [
    {
     "name": "stdout",
     "output_type": "stream",
     "text": [
      "<class 'pandas.core.frame.DataFrame'>\n",
      "MultiIndex: 295 entries, (Germany, 2018) to (Italy, 1960)\n",
      "Data columns (total 3 columns):\n",
      "GDP per capita    140 non-null float64\n",
      "GNI per capita    140 non-null float64\n",
      "Population        290 non-null float64\n",
      "dtypes: float64(3)\n",
      "memory usage: 8.1+ KB\n"
     ]
    }
   ],
   "source": [
    "#melihat informasi dari data yang belum diubah indexnya atau yang belum reset_index\n",
    "df.info()"
   ]
  },
  {
   "cell_type": "code",
   "execution_count": 23,
   "metadata": {},
   "outputs": [
    {
     "data": {
      "text/html": [
       "<div>\n",
       "<style scoped>\n",
       "    .dataframe tbody tr th:only-of-type {\n",
       "        vertical-align: middle;\n",
       "    }\n",
       "\n",
       "    .dataframe tbody tr th {\n",
       "        vertical-align: top;\n",
       "    }\n",
       "\n",
       "    .dataframe thead th {\n",
       "        text-align: right;\n",
       "    }\n",
       "</style>\n",
       "<table border=\"1\" class=\"dataframe\">\n",
       "  <thead>\n",
       "    <tr style=\"text-align: right;\">\n",
       "      <th></th>\n",
       "      <th>country</th>\n",
       "      <th>date</th>\n",
       "      <th>GDP per capita</th>\n",
       "      <th>GNI per capita</th>\n",
       "      <th>Population</th>\n",
       "    </tr>\n",
       "  </thead>\n",
       "  <tbody>\n",
       "    <tr>\n",
       "      <th>0</th>\n",
       "      <td>Germany</td>\n",
       "      <td>2018</td>\n",
       "      <td>NaN</td>\n",
       "      <td>NaN</td>\n",
       "      <td>NaN</td>\n",
       "    </tr>\n",
       "    <tr>\n",
       "      <th>1</th>\n",
       "      <td>Germany</td>\n",
       "      <td>2017</td>\n",
       "      <td>52555.932637</td>\n",
       "      <td>53660.0</td>\n",
       "      <td>82685827.0</td>\n",
       "    </tr>\n",
       "    <tr>\n",
       "      <th>2</th>\n",
       "      <td>Germany</td>\n",
       "      <td>2016</td>\n",
       "      <td>49921.330618</td>\n",
       "      <td>50910.0</td>\n",
       "      <td>82348669.0</td>\n",
       "    </tr>\n",
       "    <tr>\n",
       "      <th>3</th>\n",
       "      <td>Germany</td>\n",
       "      <td>2015</td>\n",
       "      <td>47979.484203</td>\n",
       "      <td>49010.0</td>\n",
       "      <td>81686611.0</td>\n",
       "    </tr>\n",
       "    <tr>\n",
       "      <th>4</th>\n",
       "      <td>Germany</td>\n",
       "      <td>2014</td>\n",
       "      <td>47190.769353</td>\n",
       "      <td>48110.0</td>\n",
       "      <td>80982500.0</td>\n",
       "    </tr>\n",
       "  </tbody>\n",
       "</table>\n",
       "</div>"
      ],
      "text/plain": [
       "   country  date  GDP per capita  GNI per capita  Population\n",
       "0  Germany  2018             NaN             NaN         NaN\n",
       "1  Germany  2017    52555.932637         53660.0  82685827.0\n",
       "2  Germany  2016    49921.330618         50910.0  82348669.0\n",
       "3  Germany  2015    47979.484203         49010.0  81686611.0\n",
       "4  Germany  2014    47190.769353         48110.0  80982500.0"
      ]
     },
     "execution_count": 23,
     "metadata": {},
     "output_type": "execute_result"
    }
   ],
   "source": [
    "#merubah index dengan reset_index\n",
    "#merubah type date menjadi int\n",
    "df.reset_index(inplace=True)\n",
    "df['date'] = df['date'].astype(int)\n",
    "df.head()"
   ]
  },
  {
   "cell_type": "code",
   "execution_count": 24,
   "metadata": {},
   "outputs": [
    {
     "name": "stdout",
     "output_type": "stream",
     "text": [
      "<class 'pandas.core.frame.DataFrame'>\n",
      "RangeIndex: 295 entries, 0 to 294\n",
      "Data columns (total 5 columns):\n",
      "country           295 non-null object\n",
      "date              295 non-null int32\n",
      "GDP per capita    140 non-null float64\n",
      "GNI per capita    140 non-null float64\n",
      "Population        290 non-null float64\n",
      "dtypes: float64(3), int32(1), object(1)\n",
      "memory usage: 10.4+ KB\n"
     ]
    }
   ],
   "source": [
    "#melihat hasil perubahan setelah reset_index\n",
    "df.info()"
   ]
  },
  {
   "cell_type": "code",
   "execution_count": 26,
   "metadata": {},
   "outputs": [
    {
     "data": {
      "text/plain": [
       "RangeIndex(start=0, stop=295, step=1)"
      ]
     },
     "execution_count": 26,
     "metadata": {},
     "output_type": "execute_result"
    }
   ],
   "source": [
    "#melihat index data\n",
    "#memeriksa apakah data memiliki multiindex atau tidak\n",
    "df.index"
   ]
  },
  {
   "cell_type": "code",
   "execution_count": 27,
   "metadata": {},
   "outputs": [
    {
     "data": {
      "text/html": [
       "<div>\n",
       "<style scoped>\n",
       "    .dataframe tbody tr th:only-of-type {\n",
       "        vertical-align: middle;\n",
       "    }\n",
       "\n",
       "    .dataframe tbody tr th {\n",
       "        vertical-align: top;\n",
       "    }\n",
       "\n",
       "    .dataframe thead th {\n",
       "        text-align: right;\n",
       "    }\n",
       "</style>\n",
       "<table border=\"1\" class=\"dataframe\">\n",
       "  <thead>\n",
       "    <tr style=\"text-align: right;\">\n",
       "      <th></th>\n",
       "      <th></th>\n",
       "      <th>GDP per capita</th>\n",
       "      <th>GNI per capita</th>\n",
       "      <th>Population</th>\n",
       "    </tr>\n",
       "    <tr>\n",
       "      <th>country</th>\n",
       "      <th>date</th>\n",
       "      <th></th>\n",
       "      <th></th>\n",
       "      <th></th>\n",
       "    </tr>\n",
       "  </thead>\n",
       "  <tbody>\n",
       "    <tr>\n",
       "      <th rowspan=\"5\" valign=\"top\">Germany</th>\n",
       "      <th>2018</th>\n",
       "      <td>NaN</td>\n",
       "      <td>NaN</td>\n",
       "      <td>NaN</td>\n",
       "    </tr>\n",
       "    <tr>\n",
       "      <th>2017</th>\n",
       "      <td>52555.932637</td>\n",
       "      <td>53660.0</td>\n",
       "      <td>82685827.0</td>\n",
       "    </tr>\n",
       "    <tr>\n",
       "      <th>2016</th>\n",
       "      <td>49921.330618</td>\n",
       "      <td>50910.0</td>\n",
       "      <td>82348669.0</td>\n",
       "    </tr>\n",
       "    <tr>\n",
       "      <th>2015</th>\n",
       "      <td>47979.484203</td>\n",
       "      <td>49010.0</td>\n",
       "      <td>81686611.0</td>\n",
       "    </tr>\n",
       "    <tr>\n",
       "      <th>2014</th>\n",
       "      <td>47190.769353</td>\n",
       "      <td>48110.0</td>\n",
       "      <td>80982500.0</td>\n",
       "    </tr>\n",
       "  </tbody>\n",
       "</table>\n",
       "</div>"
      ],
      "text/plain": [
       "              GDP per capita  GNI per capita  Population\n",
       "country date                                            \n",
       "Germany 2018             NaN             NaN         NaN\n",
       "        2017    52555.932637         53660.0  82685827.0\n",
       "        2016    49921.330618         50910.0  82348669.0\n",
       "        2015    47979.484203         49010.0  81686611.0\n",
       "        2014    47190.769353         48110.0  80982500.0"
      ]
     },
     "execution_count": 27,
     "metadata": {},
     "output_type": "execute_result"
    }
   ],
   "source": [
    "#merubah index seperti index awal dengan set_index\n",
    "df.set_index(['country', 'date'], inplace=True)\n",
    "df.head()"
   ]
  },
  {
   "cell_type": "code",
   "execution_count": 28,
   "metadata": {},
   "outputs": [
    {
     "data": {
      "text/plain": [
       "'MultiIndex: 295 entries, (Germany, 2018) to (Italy, 1960)'"
      ]
     },
     "execution_count": 28,
     "metadata": {},
     "output_type": "execute_result"
    }
   ],
   "source": [
    "#memeriksa jenis index data\n",
    "#dalam hal ini index datanya multiindex\n",
    "df.index.summary()"
   ]
  },
  {
   "cell_type": "code",
   "execution_count": 29,
   "metadata": {},
   "outputs": [
    {
     "data": {
      "text/plain": [
       "FrozenList(['country', 'date'])"
      ]
     },
     "execution_count": 29,
     "metadata": {},
     "output_type": "execute_result"
    }
   ],
   "source": [
    "#melihat colom mana yang merupakan multiindex\n",
    "#dalam hal ini adalah kolom country dan date\n",
    "df.index.names"
   ]
  },
  {
   "cell_type": "code",
   "execution_count": 30,
   "metadata": {
    "scrolled": true
   },
   "outputs": [
    {
     "data": {
      "text/plain": [
       "FrozenList([['France', 'Germany', 'Italy', 'Spain', 'United Kingdom'], [1960, 1961, 1962, 1963, 1964, 1965, 1966, 1967, 1968, 1969, 1970, 1971, 1972, 1973, 1974, 1975, 1976, 1977, 1978, 1979, 1980, 1981, 1982, 1983, 1984, 1985, 1986, 1987, 1988, 1989, 1990, 1991, 1992, 1993, 1994, 1995, 1996, 1997, 1998, 1999, 2000, 2001, 2002, 2003, 2004, 2005, 2006, 2007, 2008, 2009, 2010, 2011, 2012, 2013, 2014, 2015, 2016, 2017, 2018]])"
      ]
     },
     "execution_count": 30,
     "metadata": {},
     "output_type": "execute_result"
    }
   ],
   "source": [
    "#melihat isi dari kolom multiindex \n",
    "#dalam hal ini yang memiliki multiindex adalah negara Frace, Germany, dst\n",
    "df.index.levels"
   ]
  },
  {
   "cell_type": "markdown",
   "metadata": {},
   "source": [
    "#### Cara Mengakses Data Multiindex"
   ]
  },
  {
   "cell_type": "code",
   "execution_count": 31,
   "metadata": {},
   "outputs": [
    {
     "data": {
      "text/plain": [
       "GDP per capita    2.729811e+04\n",
       "GNI per capita    2.712000e+04\n",
       "Population        8.221151e+07\n",
       "Name: (Germany, 2000), dtype: float64"
      ]
     },
     "execution_count": 31,
     "metadata": {},
     "output_type": "execute_result"
    }
   ],
   "source": [
    "#mengakses data yang multiindex untuk negara germany tahun 2000\n",
    "df.loc['Germany', 2000]"
   ]
  },
  {
   "cell_type": "code",
   "execution_count": 32,
   "metadata": {
    "scrolled": true
   },
   "outputs": [
    {
     "data": {
      "text/html": [
       "<div>\n",
       "<style scoped>\n",
       "    .dataframe tbody tr th:only-of-type {\n",
       "        vertical-align: middle;\n",
       "    }\n",
       "\n",
       "    .dataframe tbody tr th {\n",
       "        vertical-align: top;\n",
       "    }\n",
       "\n",
       "    .dataframe thead th {\n",
       "        text-align: right;\n",
       "    }\n",
       "</style>\n",
       "<table border=\"1\" class=\"dataframe\">\n",
       "  <thead>\n",
       "    <tr style=\"text-align: right;\">\n",
       "      <th></th>\n",
       "      <th>GDP per capita</th>\n",
       "      <th>GNI per capita</th>\n",
       "      <th>Population</th>\n",
       "    </tr>\n",
       "    <tr>\n",
       "      <th>date</th>\n",
       "      <th></th>\n",
       "      <th></th>\n",
       "      <th></th>\n",
       "    </tr>\n",
       "  </thead>\n",
       "  <tbody>\n",
       "    <tr>\n",
       "      <th>2018</th>\n",
       "      <td>NaN</td>\n",
       "      <td>NaN</td>\n",
       "      <td>NaN</td>\n",
       "    </tr>\n",
       "    <tr>\n",
       "      <th>2017</th>\n",
       "      <td>52555.932637</td>\n",
       "      <td>53660.0</td>\n",
       "      <td>82685827.0</td>\n",
       "    </tr>\n",
       "    <tr>\n",
       "      <th>2016</th>\n",
       "      <td>49921.330618</td>\n",
       "      <td>50910.0</td>\n",
       "      <td>82348669.0</td>\n",
       "    </tr>\n",
       "    <tr>\n",
       "      <th>2015</th>\n",
       "      <td>47979.484203</td>\n",
       "      <td>49010.0</td>\n",
       "      <td>81686611.0</td>\n",
       "    </tr>\n",
       "    <tr>\n",
       "      <th>2014</th>\n",
       "      <td>47190.769353</td>\n",
       "      <td>48110.0</td>\n",
       "      <td>80982500.0</td>\n",
       "    </tr>\n",
       "  </tbody>\n",
       "</table>\n",
       "</div>"
      ],
      "text/plain": [
       "      GDP per capita  GNI per capita  Population\n",
       "date                                            \n",
       "2018             NaN             NaN         NaN\n",
       "2017    52555.932637         53660.0  82685827.0\n",
       "2016    49921.330618         50910.0  82348669.0\n",
       "2015    47979.484203         49010.0  81686611.0\n",
       "2014    47190.769353         48110.0  80982500.0"
      ]
     },
     "execution_count": 32,
     "metadata": {},
     "output_type": "execute_result"
    }
   ],
   "source": [
    "#mengakses semua kolom dari kolom multiindex \n",
    "#dalam hal ini kolom negara germany untuk semua baris tahunnya\n",
    "df_germany = df.loc['Germany']\n",
    "df_germany.head()"
   ]
  },
  {
   "cell_type": "code",
   "execution_count": 33,
   "metadata": {},
   "outputs": [
    {
     "data": {
      "text/plain": [
       "array([[<matplotlib.axes._subplots.AxesSubplot object at 0x00000224600E5940>],\n",
       "       [<matplotlib.axes._subplots.AxesSubplot object at 0x000002246033DE10>]],\n",
       "      dtype=object)"
      ]
     },
     "execution_count": 33,
     "metadata": {},
     "output_type": "execute_result"
    },
    {
     "data": {
      "image/png": "[encoded data removed]",
      "text/plain": [
       "<Figure size 864x864 with 2 Axes>"
      ]
     },
     "metadata": {},
     "output_type": "display_data"
    }
   ],
   "source": [
    "df_germany[['GDP per capita', 'GNI per capita']].plot(figsize=(12, 12), subplots=True, layout=(2, 1))"
   ]
  },
  {
   "cell_type": "code",
   "execution_count": 34,
   "metadata": {},
   "outputs": [
    {
     "data": {
      "image/png": "[encoded data removed]",
      "text/plain": [
       "<Figure size 864x864 with 2 Axes>"
      ]
     },
     "metadata": {},
     "output_type": "display_data"
    }
   ],
   "source": [
    "#menggambarkan plot GDP per capita dan GNI per capita\n",
    "#tanda ; untuk menghilangkan informasi array \n",
    "df_germany[['GDP per capita', 'GNI per capita']].plot(figsize=(12, 12), subplots=True, layout=(2, 1));"
   ]
  },
  {
   "cell_type": "code",
   "execution_count": 35,
   "metadata": {
    "scrolled": true
   },
   "outputs": [
    {
     "data": {
      "text/html": [
       "<div>\n",
       "<style scoped>\n",
       "    .dataframe tbody tr th:only-of-type {\n",
       "        vertical-align: middle;\n",
       "    }\n",
       "\n",
       "    .dataframe tbody tr th {\n",
       "        vertical-align: top;\n",
       "    }\n",
       "\n",
       "    .dataframe thead th {\n",
       "        text-align: right;\n",
       "    }\n",
       "</style>\n",
       "<table border=\"1\" class=\"dataframe\">\n",
       "  <thead>\n",
       "    <tr style=\"text-align: right;\">\n",
       "      <th>country</th>\n",
       "      <th>France</th>\n",
       "      <th>Germany</th>\n",
       "      <th>Italy</th>\n",
       "      <th>Spain</th>\n",
       "      <th>United Kingdom</th>\n",
       "    </tr>\n",
       "    <tr>\n",
       "      <th>date</th>\n",
       "      <th></th>\n",
       "      <th></th>\n",
       "      <th></th>\n",
       "      <th></th>\n",
       "      <th></th>\n",
       "    </tr>\n",
       "  </thead>\n",
       "  <tbody>\n",
       "    <tr>\n",
       "      <th>1960</th>\n",
       "      <td>46814237.0</td>\n",
       "      <td>72814900.0</td>\n",
       "      <td>50199700.0</td>\n",
       "      <td>30455000.0</td>\n",
       "      <td>52400000.0</td>\n",
       "    </tr>\n",
       "    <tr>\n",
       "      <th>1961</th>\n",
       "      <td>47444751.0</td>\n",
       "      <td>73377632.0</td>\n",
       "      <td>50536350.0</td>\n",
       "      <td>30739250.0</td>\n",
       "      <td>52800000.0</td>\n",
       "    </tr>\n",
       "    <tr>\n",
       "      <th>1962</th>\n",
       "      <td>48119649.0</td>\n",
       "      <td>74025784.0</td>\n",
       "      <td>50879450.0</td>\n",
       "      <td>31023366.0</td>\n",
       "      <td>53250000.0</td>\n",
       "    </tr>\n",
       "    <tr>\n",
       "      <th>1963</th>\n",
       "      <td>48803680.0</td>\n",
       "      <td>74714353.0</td>\n",
       "      <td>51252000.0</td>\n",
       "      <td>31296651.0</td>\n",
       "      <td>53650000.0</td>\n",
       "    </tr>\n",
       "    <tr>\n",
       "      <th>1964</th>\n",
       "      <td>49449403.0</td>\n",
       "      <td>75318337.0</td>\n",
       "      <td>51675350.0</td>\n",
       "      <td>31609195.0</td>\n",
       "      <td>54000000.0</td>\n",
       "    </tr>\n",
       "  </tbody>\n",
       "</table>\n",
       "</div>"
      ],
      "text/plain": [
       "country      France     Germany       Italy       Spain  United Kingdom\n",
       "date                                                                   \n",
       "1960     46814237.0  72814900.0  50199700.0  30455000.0      52400000.0\n",
       "1961     47444751.0  73377632.0  50536350.0  30739250.0      52800000.0\n",
       "1962     48119649.0  74025784.0  50879450.0  31023366.0      53250000.0\n",
       "1963     48803680.0  74714353.0  51252000.0  31296651.0      53650000.0\n",
       "1964     49449403.0  75318337.0  51675350.0  31609195.0      54000000.0"
      ]
     },
     "execution_count": 35,
     "metadata": {},
     "output_type": "execute_result"
    }
   ],
   "source": [
    "#melakukan reset_index agar tidak multiindex\n",
    "#membuat pivot tabel untuk 5 negara dari masing-masing tahun\n",
    "df_pivot = df.reset_index()\n",
    "df_pivot = df_pivot.pivot(index='date', columns='country', values='Population')\n",
    "df_pivot.head()"
   ]
  },
  {
   "cell_type": "code",
   "execution_count": 36,
   "metadata": {},
   "outputs": [
    {
     "name": "stdout",
     "output_type": "stream",
     "text": [
      "<class 'pandas.core.frame.DataFrame'>\n",
      "Int64Index: 59 entries, 1960 to 2018\n",
      "Data columns (total 5 columns):\n",
      "France            58 non-null float64\n",
      "Germany           58 non-null float64\n",
      "Italy             58 non-null float64\n",
      "Spain             58 non-null float64\n",
      "United Kingdom    58 non-null float64\n",
      "dtypes: float64(5)\n",
      "memory usage: 2.8 KB\n"
     ]
    }
   ],
   "source": [
    "#bukti bahwa pivot tabel tidak menghasilkan multiindex\n",
    "df_pivot.info()"
   ]
  },
  {
   "cell_type": "code",
   "execution_count": 37,
   "metadata": {},
   "outputs": [
    {
     "data": {
      "image/png": "[encoded data removed]",
      "text/plain": [
       "<Figure size 1152x648 with 1 Axes>"
      ]
     },
     "metadata": {},
     "output_type": "display_data"
    }
   ],
   "source": [
    "#memvisualisasikan pivot tabel\n",
    "df_pivot.plot(figsize=(16, 9), title='Population');\n",
    "\n",
    "# Show y-axis in 'plain' format instead of 'scientific'\n",
    "# menampilkan sumbu y dalam format 'biasa' dan bukan 'ilmiah'\n",
    "plt.ticklabel_format(style='plain', axis='y')"
   ]
  },
  {
   "cell_type": "markdown",
   "metadata": {},
   "source": [
    "                        ## Semoga Bermanfaat\n",
    "                        ## @Raspiani"
   ]
  }
 ],
 "metadata": {
  "kernelspec": {
   "display_name": "Python 3",
   "language": "python",
   "name": "python3"
  },
  "language_info": {
   "codemirror_mode": {
    "name": "ipython",
    "version": 3
   },
   "file_extension": ".py",
   "mimetype": "text/x-python",
   "name": "python",
   "nbconvert_exporter": "python",
   "pygments_lexer": "ipython3",
   "version": "3.6.5"
  }
 },
 "nbformat": 4,
 "nbformat_minor": 2
}
